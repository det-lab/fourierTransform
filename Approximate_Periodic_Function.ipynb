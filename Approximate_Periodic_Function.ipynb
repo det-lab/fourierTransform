{
 "metadata": {
  "name": "",
  "signature": "sha256:18593f37abc6616627721f7c3c713885c6c9a4c3fc2663aa584263781a33c5ea"
 },
 "nbformat": 3,
 "nbformat_minor": 0,
 "worksheets": [
  {
   "cells": [
    {
     "cell_type": "markdown",
     "metadata": {},
     "source": [
      "The claim: \n",
      "==========\n",
      "----\n",
      "\n",
      "## any function can be approximated as a series of sines and cosines, or \n",
      "\n",
      "\n",
      "## $f(x) = \\sum_{n=1}^{\\infty} a_n \\cos(\\frac{2\\pi n x}{P}) + b_n \\sin(\\frac{2\\pi n x}{P})$, where $P$ is the period of function $f(x)$."
     ]
    },
    {
     "cell_type": "markdown",
     "metadata": {},
     "source": [
      "Initialization\n",
      "==============\n",
      "----"
     ]
    },
    {
     "cell_type": "code",
     "collapsed": false,
     "input": [
      "# automagically display plots\n",
      "%pylab inline\n",
      "\n",
      "# load useful libraries\n",
      "import numpy as np\n",
      "from scipy import signal\n",
      "import matplotlib.pyplot as plt"
     ],
     "language": "python",
     "metadata": {},
     "outputs": [
      {
       "output_type": "stream",
       "stream": "stdout",
       "text": [
        "Populating the interactive namespace from numpy and matplotlib\n"
       ]
      }
     ],
     "prompt_number": 161
    },
    {
     "cell_type": "code",
     "collapsed": false,
     "input": [
      "# function that takes coefficients (const, sin, cos)\n",
      "# and returns array of y-values\n",
      "def makeFunction(const_coef, sin_coef, cos_coef, t):\n",
      "    # initialize yVal_arr\n",
      "    yVal_arr = np.zeros(len(t));\n",
      "    \n",
      "    # first the sines\n",
      "    # loop over entries from the dictionary\n",
      "    for coeff, val in sin_coef.items():        \n",
      "        # determine the period of the sin/cos\n",
      "        # notice how we turn the variable 'n' into an integer!\n",
      "        n = int(coeff[1:len(coeff)]); \n",
      "        #print coeff, n, val;\n",
      "        \n",
      "        # add appropriate function to return value\n",
      "        yVal_arr += np.sin(t * 2 * np.pi * n);\n",
      "        \n",
      "    # now the cosines\n",
      "    # loop over entries from the dictionary\n",
      "    for coeff, val in cos_coef.items():        \n",
      "        # determine the period of the sin/cos\n",
      "        # notice how we turn the variable 'n' into an integer!\n",
      "        n = int(coeff[1:len(coeff)]); \n",
      "        #print coeff, n, val;\n",
      "        \n",
      "        # add appropriate function to return value\n",
      "        yVal_arr += np.cos(t * 2 * np.pi * n);\n",
      "        \n",
      "    # and finally, the constant offset\n",
      "    yVal_arr += const_coef;\n",
      "    \n",
      "    return yVal_arr;   \n",
      "    "
     ],
     "language": "python",
     "metadata": {},
     "outputs": [],
     "prompt_number": 172
    },
    {
     "cell_type": "code",
     "collapsed": true,
     "input": [
      "# t is an array of the x values\n",
      "t = np.linspace(-1, 1, 500, endpoint=False)"
     ],
     "language": "python",
     "metadata": {},
     "outputs": [],
     "prompt_number": 173
    },
    {
     "cell_type": "markdown",
     "metadata": {},
     "source": [
      "Pick a function; any function.  Can we match it?\n",
      "================================================\n",
      "----"
     ]
    },
    {
     "cell_type": "code",
     "collapsed": false,
     "input": [
      "# choose any function\n",
      "# a square pulse, for starters\n",
      "f = signal.square(t * 2 * np.pi );\n",
      "\n",
      "# and plot\n",
      "plt.plot(t, f);\n",
      "plt.ylim(-2, 2);"
     ],
     "language": "python",
     "metadata": {},
     "outputs": [
      {
       "metadata": {},
       "output_type": "display_data",
       "png": "[encoded data removed]",
       "text": [
        "<matplotlib.figure.Figure at 0x7f48840d5b90>"
       ]
      }
     ],
     "prompt_number": 166
    },
    {
     "cell_type": "markdown",
     "metadata": {},
     "source": [
      "Building a function from sines and cosines: Guessing\n",
      "====================================================\n",
      "----"
     ]
    },
    {
     "cell_type": "code",
     "collapsed": false,
     "input": [
      "# type 'Shift-Enter' to evaluate this cell\n",
      "\n",
      "# /////////////////////////\n",
      "# set the coefficients here\n",
      "# /////////////////////////\n",
      "const_coef = 0.5;\n",
      "cos_coef = {'a1':2, 'a2':0.1};\n",
      "sin_coef = {'b1':2, 'b2':0.1, 'b3':0.2, 'b111':50};\n",
      "\n",
      "\n",
      "\n",
      "# ///////////////////////////\n",
      "# this will plot the function\n",
      "# ///////////////////////////\n",
      "y_arr = makeFunction(const_coef, sin_coef, cos_coef, t);\n",
      "plt.plot(t,y_arr);\n",
      "plt.plot(t,f,'k',linewidth=3.0,alpha=0.65);"
     ],
     "language": "python",
     "metadata": {},
     "outputs": [
      {
       "metadata": {},
       "output_type": "display_data",
       "png": "[encoded data removed]",
       "text": [
        "<matplotlib.figure.Figure at 0x7f4884108b90>"
       ]
      }
     ],
     "prompt_number": 180
    },
    {
     "cell_type": "code",
     "collapsed": false,
     "input": [],
     "language": "python",
     "metadata": {},
     "outputs": []
    }
   ],
   "metadata": {}
  }
 ]
}