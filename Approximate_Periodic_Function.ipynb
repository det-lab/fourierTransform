{
 "metadata": {
  "name": "",
  "signature": "sha256:5d8a26d256731dc804919994aece44720705dd937df8d95b933d9b3ff28a75b9"
 },
 "nbformat": 3,
 "nbformat_minor": 0,
 "worksheets": [
  {
   "cells": [
    {
     "cell_type": "code",
     "collapsed": false,
     "input": [
      "%pylab inline"
     ],
     "language": "python",
     "metadata": {},
     "outputs": [
      {
       "output_type": "stream",
       "stream": "stdout",
       "text": [
        "Populating the interactive namespace from numpy and matplotlib\n"
       ]
      }
     ],
     "prompt_number": 7
    },
    {
     "cell_type": "code",
     "collapsed": false,
     "input": [
      "import numpy as np\n",
      "from scipy import signal\n",
      "import matplotlib.pyplot as plt"
     ],
     "language": "python",
     "metadata": {},
     "outputs": [],
     "prompt_number": 12
    },
    {
     "cell_type": "markdown",
     "metadata": {},
     "source": [
      "The claim: any function can be approximated as a series of sines and cosines, or $$f(x) = \\sum_{n=1}^{\\infty} a_n \\cos(\\frac{2\\pi n x}{P}) + b_n \\sin(\\frac{2\\pi n x}{P})$$"
     ]
    },
    {
     "cell_type": "code",
     "collapsed": true,
     "input": [
      "# t is super important?\n",
      "t = np.linspace(-1, 1, 500, endpoint=False)\n",
      "plt.plot(t, signal.square(t * 2 * np.pi ))\n",
      "plt.ylim(-2, 2)"
     ],
     "language": "python",
     "metadata": {},
     "outputs": [
      {
       "metadata": {},
       "output_type": "pyout",
       "prompt_number": 19,
       "text": [
        "(-2, 2)"
       ]
      },
      {
       "metadata": {},
       "output_type": "display_data",
       "png": "[encoded data removed]",
       "text": [
        "<matplotlib.figure.Figure at 0x7f488e34d7d0>"
       ]
      }
     ],
     "prompt_number": 19
    },
    {
     "cell_type": "code",
     "collapsed": false,
     "input": [
      "# type 'Shift-Enter' to evaluate this cell\n",
      "\n",
      "# /////////////////////////\n",
      "# set the coefficients here\n",
      "# /////////////////////////\n",
      "const_coef = 0;\n",
      "sin_coef = {'a1':2, 'a2':0.1, 'a111':50};\n",
      "cos_coef = {'b1':2, 'b2':0.1};\n",
      "\n",
      "\n",
      "# ///////////////////////////\n",
      "# this will plot the function\n",
      "# ///////////////////////////\n",
      "print sin_coef['a1']"
     ],
     "language": "python",
     "metadata": {},
     "outputs": [
      {
       "output_type": "stream",
       "stream": "stdout",
       "text": [
        "2\n"
       ]
      }
     ],
     "prompt_number": 57
    },
    {
     "cell_type": "code",
     "collapsed": false,
     "input": [
      "# function that takes coefficients (const, sin, cos)\n",
      "# and returns array of y-values\n",
      "def makeFunction(const_coef, sin_coef, cos_coef, t):\n",
      "    # initialize yVal_arr\n",
      "    yVal_arr = np.zeros(len(t));\n",
      "    \n",
      "    # loop over entries from the dictionary\n",
      "    for coeff, val in sin_coef.items():        \n",
      "        # determine the period of the sin/cos\n",
      "        # notice how we turn the variable 'n' into an integer!\n",
      "        n = int(coeff[1:len(coeff)]); \n",
      "        print coeff, n, val;\n",
      "        \n",
      "        # add appropriate function to return value\n",
      "        yVal_arr += np.sin(t * 2 * np.pi * n);\n",
      "    \n",
      "    return yVal_arr;   \n",
      "    "
     ],
     "language": "python",
     "metadata": {},
     "outputs": [],
     "prompt_number": 134
    },
    {
     "cell_type": "code",
     "collapsed": false,
     "input": [
      "a = [1,2,3];\n",
      "b = [0.1, 0.2, 0.3];\n",
      "print a;\n",
      "#a = [x + b(x) for x in a];\n",
      "print a[:];"
     ],
     "language": "python",
     "metadata": {},
     "outputs": [
      {
       "output_type": "stream",
       "stream": "stdout",
       "text": [
        "[1, 2, 3]\n",
        "[1, 2, 3]\n"
       ]
      }
     ],
     "prompt_number": 128
    },
    {
     "cell_type": "code",
     "collapsed": false,
     "input": [
      "c = 'a10'\n",
      "print c[1:len(c)]"
     ],
     "language": "python",
     "metadata": {},
     "outputs": [
      {
       "output_type": "stream",
       "stream": "stdout",
       "text": [
        "10\n"
       ]
      }
     ],
     "prompt_number": 129
    },
    {
     "cell_type": "code",
     "collapsed": false,
     "input": [
      "y_arr = makeFunction(const_coef, sin_coef, cos_coef, t);"
     ],
     "language": "python",
     "metadata": {},
     "outputs": [
      {
       "output_type": "stream",
       "stream": "stdout",
       "text": [
        "a1 1 2\n",
        "a111 111 50\n",
        "a2 2 0.1\n"
       ]
      }
     ],
     "prompt_number": 135
    },
    {
     "cell_type": "code",
     "collapsed": false,
     "input": [
      "plt.plot(t,y_arr)"
     ],
     "language": "python",
     "metadata": {},
     "outputs": [
      {
       "metadata": {},
       "output_type": "pyout",
       "prompt_number": 136,
       "text": [
        "[<matplotlib.lines.Line2D at 0x7f488e106d10>]"
       ]
      },
      {
       "metadata": {},
       "output_type": "display_data",
       "png": "[encoded data removed]",
       "text": [
        "<matplotlib.figure.Figure at 0x7f488e4cebd0>"
       ]
      }
     ],
     "prompt_number": 136
    },
    {
     "cell_type": "code",
     "collapsed": false,
     "input": [
      "def doSomeKindaThing(a,b):\n",
      "    return a*b;"
     ],
     "language": "python",
     "metadata": {},
     "outputs": [],
     "prompt_number": 37
    },
    {
     "cell_type": "code",
     "collapsed": false,
     "input": [
      "# set some variables here\n",
      "x = 9;\n",
      "y = 8;\n",
      "\n",
      "# the function is called automatically\n",
      "doSomeKindaThing(x,y)"
     ],
     "language": "python",
     "metadata": {},
     "outputs": [
      {
       "metadata": {},
       "output_type": "pyout",
       "prompt_number": 6,
       "text": [
        "72"
       ]
      }
     ],
     "prompt_number": 6
    },
    {
     "cell_type": "code",
     "collapsed": false,
     "input": [],
     "language": "python",
     "metadata": {},
     "outputs": []
    }
   ],
   "metadata": {}
  }
 ]
}